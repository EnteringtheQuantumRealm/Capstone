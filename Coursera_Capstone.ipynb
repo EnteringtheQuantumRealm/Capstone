{
    "nbformat_minor": 1, 
    "cells": [
        {
            "source": "#### Write some markdown to explain that this notebook will be mainly used for the capstone project.\n\n1. Import the pandas library as pd.   \n2. Import the Numpy library as np.   \n3. Print the following the statement: Hello Capstone Project Course!   \n4. Push the Notebook to your Github repository and submit a link to the notebook on your Github repository.   ", 
            "cell_type": "markdown", 
            "metadata": {}
        }, 
        {
            "execution_count": 2, 
            "cell_type": "code", 
            "metadata": {}, 
            "outputs": [
                {
                    "output_type": "stream", 
                    "name": "stdout", 
                    "text": "Hello Capstone Project Course!\n"
                }
            ], 
            "source": "import pandas as pd\nimport numpy as np\nprint(\"Hello Capstone Project Course!\")"
        }, 
        {
            "execution_count": null, 
            "cell_type": "code", 
            "metadata": {}, 
            "outputs": [], 
            "source": ""
        }
    ], 
    "metadata": {
        "kernelspec": {
            "display_name": "Python 3.6", 
            "name": "python3", 
            "language": "python"
        }, 
        "language_info": {
            "mimetype": "text/x-python", 
            "nbconvert_exporter": "python", 
            "version": "3.6.8", 
            "name": "python", 
            "file_extension": ".py", 
            "pygments_lexer": "ipython3", 
            "codemirror_mode": {
                "version": 3, 
                "name": "ipython"
            }
        }
    }, 
    "nbformat": 4
}